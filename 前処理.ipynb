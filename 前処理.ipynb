{
  "nbformat": 4,
  "nbformat_minor": 0,
  "metadata": {
    "colab": {
      "provenance": [],
      "authorship_tag": "ABX9TyPKogSY9gXEDvRmhj6Nmtlm",
      "include_colab_link": true
    },
    "kernelspec": {
      "name": "python3",
      "display_name": "Python 3"
    },
    "language_info": {
      "name": "python"
    }
  },
  "cells": [
    {
      "cell_type": "markdown",
      "metadata": {
        "id": "view-in-github",
        "colab_type": "text"
      },
      "source": [
        "<a href=\"https://colab.research.google.com/github/You8006/kagglebook/blob/master/%E5%89%8D%E5%87%A6%E7%90%86.ipynb\" target=\"_parent\"><img src=\"https://colab.research.google.com/assets/colab-badge.svg\" alt=\"Open In Colab\"/></a>"
      ]
    },
    {
      "cell_type": "code",
      "execution_count": 1,
      "metadata": {
        "colab": {
          "base_uri": "https://localhost:8080/",
          "height": 212
        },
        "id": "9lEiEBfYDYPP",
        "outputId": "1fe6bbf7-c5a1-41c1-c057-ee43d666aab1"
      },
      "outputs": [
        {
          "output_type": "error",
          "ename": "NameError",
          "evalue": "ignored",
          "traceback": [
            "\u001b[0;31m---------------------------------------------------------------------------\u001b[0m",
            "\u001b[0;31mNameError\u001b[0m                                 Traceback (most recent call last)",
            "\u001b[0;32m<ipython-input-1-b0ea8d5534cb>\u001b[0m in \u001b[0;36m<module>\u001b[0;34m\u001b[0m\n\u001b[0;32m----> 1\u001b[0;31m \u001b[0mdate\u001b[0m \u001b[0;34m=\u001b[0m \u001b[0mpd\u001b[0m\u001b[0;34m.\u001b[0m\u001b[0mto_datetime\u001b[0m\u001b[0;34m(\u001b[0m\u001b[0mdf\u001b[0m\u001b[0;34m[\u001b[0m\u001b[0;34m\"yyyymm\"\u001b[0m\u001b[0;34m]\u001b[0m\u001b[0;34m,\u001b[0m \u001b[0mformat\u001b[0m \u001b[0;34m=\u001b[0m \u001b[0;34m\"%Y%m\"\u001b[0m\u001b[0;34m)\u001b[0m\u001b[0;34m\u001b[0m\u001b[0;34m\u001b[0m\u001b[0m\n\u001b[0m\u001b[1;32m      2\u001b[0m \u001b[0mdf\u001b[0m\u001b[0;34m[\u001b[0m\u001b[0;34m\"Year\"\u001b[0m\u001b[0;34m]\u001b[0m \u001b[0;34m=\u001b[0m \u001b[0mdate\u001b[0m\u001b[0;34m.\u001b[0m\u001b[0mdt\u001b[0m\u001b[0;34m.\u001b[0m\u001b[0myear\u001b[0m\u001b[0;34m\u001b[0m\u001b[0;34m\u001b[0m\u001b[0m\n\u001b[1;32m      3\u001b[0m \u001b[0mdf\u001b[0m\u001b[0;34m[\u001b[0m\u001b[0;34m\"Month\"\u001b[0m\u001b[0;34m]\u001b[0m \u001b[0;34m=\u001b[0m \u001b[0mdate\u001b[0m\u001b[0;34m.\u001b[0m\u001b[0mdt\u001b[0m\u001b[0;34m.\u001b[0m\u001b[0mmonth\u001b[0m\u001b[0;34m\u001b[0m\u001b[0;34m\u001b[0m\u001b[0m\n",
            "\u001b[0;31mNameError\u001b[0m: name 'pd' is not defined"
          ]
        }
      ],
      "source": [
        "#日付データの変換処理\n",
        "date = pd.to_datetime(df[\"yyyymm\"], format = \"%Y%m\")\n",
        "df[\"Year\"] = date.dt.year \n",
        "df[\"Month\"] = date.dt.month\n",
        "\n",
        "#前処理\n",
        "date_cols = [\"yyyymm\" , \"account_open_date\", \"hl_open_date\"]\n",
        "for t in date_cols:\n",
        "    df[t] = pd.to_datetime(df[t], format = \"%Y%m\")\n",
        "\n",
        "#日付データをint型に\n",
        "def datetime_ymd(df, key):\n",
        "    con = df[key] == pd.Timestamp.max\n",
        "    df[key + \"_y\"] = df[key].dt.year\n",
        "    df[key + \"_m\"] = df[key].dt.month\n",
        "    df[key + \"_d\"] = df[key].dt.day\n",
        "    df.loc[con, key + \"_y\"] = 0\n",
        "    df.loc[con, key + \"_m\"] = 0\n",
        "    df.loc[con, key + \"_d\"] = 0\n",
        "    return df\n",
        "\n",
        "for d in date_cols:\n",
        "    df = datetime_ymd(df, d)\n",
        "\n"
      ]
    },
    {
      "cell_type": "code",
      "source": [
        "\n",
        "#欠損値の中央値置換\n",
        "taegets = df.columns[df.isnull().any()]\n",
        "for t in taegets:\n",
        "    df[t] = df[t].fillna(df[t].median())\n",
        "\n"
      ],
      "metadata": {
        "id": "gKWsjZUQFwK5"
      },
      "execution_count": null,
      "outputs": []
    },
    {
      "cell_type": "code",
      "source": [
        "#Umapによるデータの圧縮と可視化\n",
        "\n",
        "umap_cols = train_x.columns\n",
        "\n",
        "#'euclidean', 'canberra', 'cosine', 'hamming'のいずれかを選択\n",
        "umap_metrics = 'euclidean' \n",
        "\n",
        "num_round = 500\n",
        "fig = plt.figure(figsize = [20, 5])\n",
        "\n",
        "\n",
        "#umap実行(時間かかります)\n",
        "reducer = umap.UMAP(\n",
        "        n_neighbors=100,\n",
        "        min_dist=0.01,\n",
        "        n_components=2,\n",
        "        metric= umap_metrics\n",
        ")\n",
        "\n",
        "# fit_transformで変形（https://qiita.com/makopo/items/35c103e2df2e282f839a）\n",
        "embedding = reducer.fit_transform(X_train.loc[:,umap_cols])\n",
        "\n",
        "\n",
        "#plotによる可視化\n",
        "plt.scatter(\n",
        "    embedding[:, 0],\n",
        "    embedding[:, 1],\n",
        "    s=0.1\n",
        ")\n",
        "\n",
        "plt.title('UMAP projection of ' + umap_metrics, fontsize=16)\n",
        "plt.show()\n",
        "\n",
        "\n",
        "#既存データへのUmap作成データの結合\n",
        "X_train['umap_x'] = embedding[:, 0]\n",
        "X_train['umap_y'] = embedding[:, 1]\n",
        "\n",
        "# テストデータにはfit_transformではなく、transformを使用（https://qiita.com/makopo/items/35c103e2df2e282f839a）\n",
        "data_test = reducer.transform(X_test.loc[:,umap_cols])\n",
        "X_test['umap_x'] = data_test[:, 0]\n",
        "X_test['umap_y'] = data_test[:, 1]\n"
      ],
      "metadata": {
        "id": "Xg6_zECVFxdI"
      },
      "execution_count": null,
      "outputs": []
    },
    {
      "cell_type": "markdown",
      "source": [
        "#日付データの変換処理\n",
        "date = pd.to_datetime(df[\"yyyymm\"], format = \"%Y%m\")\n",
        "df[\"Year\"] = date.dt.year \n",
        "df[\"Month\"] = date.dt.month\n",
        "\n",
        "#欠損値の中央値置換\n",
        "taegets = df.columns[df.isnull().any()]\n",
        "for t in taegets:\n",
        "    df[t] = df[t].fillna(df[t].median())"
      ],
      "metadata": {
        "id": "sncfaTv_EkNZ"
      }
    }
  ]
}